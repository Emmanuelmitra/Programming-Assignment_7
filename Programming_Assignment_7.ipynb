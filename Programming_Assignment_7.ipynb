{
  "nbformat": 4,
  "nbformat_minor": 0,
  "metadata": {
    "colab": {
      "provenance": []
    },
    "kernelspec": {
      "name": "python3",
      "display_name": "Python 3"
    },
    "language_info": {
      "name": "python"
    }
  },
  "cells": [
    {
      "cell_type": "code",
      "execution_count": null,
      "metadata": {
        "id": "mfqC0pVQ8Pcj"
      },
      "outputs": [],
      "source": [
        "# Programming Assignment_7"
      ]
    },
    {
      "cell_type": "markdown",
      "source": [
        "1. Write a Python Program to find sum of array?\n",
        "2. Write a Python Program to find largest element in an array?\n",
        "3. Write a Python Program for array rotation?\n",
        "4. Write a Python Program to Split the array and add the first part to the end?\n",
        "5. Write a Python Program to check if given array is Monotonic?"
      ],
      "metadata": {
        "id": "WemGgQ3R8P8_"
      }
    },
    {
      "cell_type": "code",
      "source": [
        "# 1.Write a Python Program to find sum of array?\n",
        "def sumOfArr(a):\n",
        "    sum=0\n",
        "    for i in a:\n",
        "        sum += i\n",
        "    return sum\n",
        "a = [1,2,3,4]\n",
        "res=sumOfArr(a)\n",
        "print(res) # output = 10"
      ],
      "metadata": {
        "colab": {
          "base_uri": "https://localhost:8080/"
        },
        "id": "8v7r4K9X8QgK",
        "outputId": "e76ee8f9-67da-4203-b487-b959296e58ea"
      },
      "execution_count": 1,
      "outputs": [
        {
          "output_type": "stream",
          "name": "stdout",
          "text": [
            "10\n"
          ]
        }
      ]
    },
    {
      "cell_type": "code",
      "source": [
        "# 2.Write a Python Program to find largest element in an array?\n",
        "#Initialize array     \n",
        "arr = [25, 11, 7, 75, 56];     \n",
        "     \n",
        "#Initialize max with first element of array.    \n",
        "max = arr[0];    \n",
        "     \n",
        "#Loop through the array    \n",
        "for i in range(0, len(arr)):    \n",
        "    #Compare elements of array with max    \n",
        "   if(arr[i] > max):    \n",
        "       max = arr[i];    \n",
        "           \n",
        "print(\"Largest element present in given array: \" + str(max));   "
      ],
      "metadata": {
        "colab": {
          "base_uri": "https://localhost:8080/"
        },
        "id": "IQMLMDo08fni",
        "outputId": "ba78f228-e007-472d-9307-632489ee9386"
      },
      "execution_count": 2,
      "outputs": [
        {
          "output_type": "stream",
          "name": "stdout",
          "text": [
            "Largest element present in given array: 75\n"
          ]
        }
      ]
    },
    {
      "cell_type": "code",
      "source": [
        "# 3.Write a Python Program for array rotation?\n",
        "# function to rotate array by d elements using temp array\n",
        "def rotateArray(arr, n, d):\n",
        "    temp = []\n",
        "    i = 0\n",
        "    while (i < d):\n",
        "        temp.append(arr[i])\n",
        "        i = i + 1\n",
        "    i = 0\n",
        "    while (d < n):\n",
        "        arr[i] = arr[d]\n",
        "        i = i + 1\n",
        "        d = d + 1\n",
        "    arr[:] = arr[: i] + temp\n",
        "    return arr\n",
        " \n",
        " \n",
        "# Driver function to test above function\n",
        "arr = [1, 2, 3, 4, 5, 6, 7]\n",
        "print(\"Array after left rotation is: \", end=' ')\n",
        "print(rotateArray(arr, len(arr), 2))\n",
        " "
      ],
      "metadata": {
        "colab": {
          "base_uri": "https://localhost:8080/"
        },
        "id": "Eg2xAcKY8u2D",
        "outputId": "bd190b94-1328-4935-d0e6-da33b6c7fd59"
      },
      "execution_count": 4,
      "outputs": [
        {
          "output_type": "stream",
          "name": "stdout",
          "text": [
            "Array after left rotation is:  [3, 4, 5, 6, 7, 1, 2]\n"
          ]
        }
      ]
    },
    {
      "cell_type": "code",
      "source": [
        "# 4. Write a Python Program to Split the array and add the first part to the end?\n",
        "# Python program to split array and move first\n",
        "# part to end.\n",
        "  \n",
        "def splitArr(arr, n, k): \n",
        "    for i in range(0, k): \n",
        "        x = arr[0]\n",
        "        for j in range(0, n-1):\n",
        "            arr[j] = arr[j + 1]\n",
        "          \n",
        "        arr[n-1] = x\n",
        "          \n",
        "  \n",
        "# main\n",
        "arr = [12, 10, 5, 6, 52, 36]\n",
        "n = len(arr)\n",
        "position = 2\n",
        "  \n",
        "splitArr(arr, n, position)\n",
        "  \n",
        "for i in range(0, n): \n",
        "    print(arr[i], end = ' ')\n",
        "  "
      ],
      "metadata": {
        "colab": {
          "base_uri": "https://localhost:8080/"
        },
        "id": "1Q47IJgf8u4n",
        "outputId": "d16be50f-2876-4aa6-cc53-0c7a588b3e10"
      },
      "execution_count": 5,
      "outputs": [
        {
          "output_type": "stream",
          "name": "stdout",
          "text": [
            "5 6 52 36 12 10 "
          ]
        }
      ]
    },
    {
      "cell_type": "code",
      "source": [
        "# 5. Write a Python Program to check if given array is Monotonic?\n",
        "def isMonotonic(A):\n",
        "    x, y = [], []\n",
        "    x.extend(A)\n",
        "    y.extend(A)\n",
        "    x.sort()\n",
        "    y.sort(reverse=True)\n",
        "    if(x == A or y == A):\n",
        "        return True\n",
        "    return False\n",
        "\n",
        "# Driver program\n",
        "A = [6, 5, 4, 4]\n",
        " \n",
        "# Print required result\n",
        "print(isMonotonic(A))"
      ],
      "metadata": {
        "colab": {
          "base_uri": "https://localhost:8080/"
        },
        "id": "FzgP9naU8pFN",
        "outputId": "ae3e031c-0967-4a5d-8748-9cd620115dcb"
      },
      "execution_count": 11,
      "outputs": [
        {
          "output_type": "stream",
          "name": "stdout",
          "text": [
            "True\n"
          ]
        }
      ]
    },
    {
      "cell_type": "code",
      "source": [],
      "metadata": {
        "id": "xpMWuLq19yV0"
      },
      "execution_count": null,
      "outputs": []
    }
  ]
}